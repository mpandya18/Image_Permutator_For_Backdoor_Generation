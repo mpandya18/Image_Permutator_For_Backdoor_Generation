{
 "cells": [
  {
   "cell_type": "code",
   "execution_count": 4,
   "metadata": {
    "scrolled": true
   },
   "outputs": [
    {
     "name": "stdout",
     "output_type": "stream",
     "text": [
      "Specify image dimensions 2 x 2\n",
      "Specify each pixel's permutation - use X x Y to indicate pixel, followed by +/- values for RGB permutations 1 x 2 100 200 14 1\n",
      "Specify each pixel's permutation - use X x Y to indicate pixel, followed by +/- values for RGB permutations end\n",
      "['2 x 2', ['1 x 2 100 200 14 1', 'end']]\n",
      "numbers check: 2 2\n",
      "listing images...\n"
     ]
    },
    {
     "data": {
      "image/png": "[encoded data removed]",
      "text/plain": [
       "<PIL.Image.Image image mode=RGB size=2x2 at 0x17E8DE65730>"
      ]
     },
     "metadata": {},
     "output_type": "display_data"
    },
    {
     "name": "stdout",
     "output_type": "stream",
     "text": [
      "[1, 2, 100, 200, 14, 1]\n",
      "individual_pixel_mutation_numbers check: 1 2 100 200 14\n",
      "Confirming pixel check: 157 46 156\n",
      "Confirming mutated pixel check: 100 200 14\n",
      "[]\n"
     ]
    },
    {
     "data": {
      "image/png": "[encoded data removed]",
      "text/plain": [
       "<PIL.Image.Image image mode=RGB size=2x2 at 0x17E8DE65730>"
      ]
     },
     "metadata": {},
     "output_type": "display_data"
    }
   ],
   "source": [
    "import os\n",
    "import time\n",
    "\n",
    "import numpy\n",
    "from PIL import Image\n",
    "\n",
    "image_dataset = []\n",
    "\n",
    "#Create Random Image functionality credited to https://gist.github.com/sparkstar/c6bff470e84912566113\n",
    "def create_image(width = 1920, height = 1080, num_of_images = 100):\n",
    "    width = int(width)\n",
    "    height = int(height)\n",
    "    num_of_images = int(num_of_images)\n",
    " \n",
    "    #current = time.strftime(\"%Y%m%d%H%M%S\")\n",
    "    #os.mkdir(current)\n",
    " \n",
    "    for n in range(num_of_images):\n",
    "        #filename = '{0}/{0}_{1:03d}.jpg'.format(current, n)\n",
    "        rgb_array = numpy.random.rand(height,width,3) * 255\n",
    "        image = Image.fromarray(rgb_array.astype('uint8')).convert('RGB')\n",
    "        #image.save(filename)\n",
    "        image_dataset.append(image)\n",
    "\n",
    "#Specify image dimensions\n",
    "image_dimensions=input(\"Specify image dimensions \")\n",
    "#Specify each pixel's permutation\n",
    "pixel_mutations = []\n",
    "pixel_mutation = \"\"\n",
    "while pixel_mutation != \"end\":    \n",
    "    pixel_mutation = input(\"Specify each pixel's permutation - use X x Y to indicate pixel, followed by +/- values for RGB permutations \")\n",
    "    pixel_mutations.append(pixel_mutation)\n",
    "#output data so can be used to create backdoors\n",
    "output_data = [image_dimensions, pixel_mutations]\n",
    "print(output_data)\n",
    "\n",
    "\n",
    "image_dimension_numbers = []\n",
    "for word in image_dimensions.split():\n",
    "   if word.isdigit():\n",
    "      image_dimension_numbers.append(int(word))\n",
    "\n",
    "print(\"numbers check: \"+str(image_dimension_numbers[0]) + \" \"+ str(image_dimension_numbers[1]))\n",
    "\n",
    "create_image(image_dimension_numbers[0], image_dimension_numbers[1], 1)\n",
    "\n",
    "#load image dataset\n",
    "\n",
    "print(\"listing images...\")\n",
    "for image in image_dataset:\n",
    "    display(image)\n",
    "\n",
    "    #poison the data\n",
    "\n",
    "    for individual_pixel_mutation in pixel_mutations:\n",
    "        individual_pixel_mutation_numbers = []\n",
    "        for word_two in individual_pixel_mutation.split():\n",
    "            if word_two.lstrip('-').isdigit():\n",
    "                individual_pixel_mutation_numbers.append(int(word_two))\n",
    "        print(individual_pixel_mutation_numbers)\n",
    "        if individual_pixel_mutation_numbers:\n",
    "            print(\"individual_pixel_mutation_numbers check: \"+str(individual_pixel_mutation_numbers[0])+ \" \"+str(individual_pixel_mutation_numbers[1])+ \" \"+str(individual_pixel_mutation_numbers[2])+ \" \"+str(individual_pixel_mutation_numbers[3])+ \" \"+str(individual_pixel_mutation_numbers[4]))\n",
    "            #pinpoint the exact pixel and add the permutations\n",
    "            pixelmap = image.load()\n",
    "            individual_pixel = pixelmap[individual_pixel_mutation_numbers[0]-1, individual_pixel_mutation_numbers[1]-1]\n",
    "            print(\"Confirming pixel check: \"+str(individual_pixel[0])+ \" \"+str(individual_pixel[1])+ \" \"+str(individual_pixel[2]))\n",
    "            R_value = -1\n",
    "            G_value = -1\n",
    "            B_value = -1\n",
    "            \n",
    "            #Absolute pixel value mutation - setting mutation absolutely\n",
    "            if (individual_pixel_mutation_numbers[5] == 1):\n",
    "                if(individual_pixel_mutation_numbers[2]>=0):\n",
    "                    R_value = individual_pixel_mutation_numbers[2]\n",
    "                if(individual_pixel_mutation_numbers[3]>=0):\n",
    "                    G_value = individual_pixel_mutation_numbers[3]\n",
    "                if(individual_pixel_mutation_numbers[4]>=0):\n",
    "                    B_value = individual_pixel_mutation_numbers[4]\n",
    "                if(R_value == -1 or G_value == -1 or B_value == -1):\n",
    "                    print(\"Error: Cannot compute absolute negative pixel values. Setting negative values to zero\")\n",
    "                \n",
    "            #Relative pixel value mutation - setting mutation relative to existing pixel values\n",
    "            elif(individual_pixel_mutation_numbers[5] == 0):\n",
    "                if(individual_pixel[0]+individual_pixel_mutation_numbers[2]>255):\n",
    "                    R_value = 255\n",
    "                elif ((individual_pixel[0]+individual_pixel_mutation_numbers[2])<0):\n",
    "                    R_value = 0\n",
    "                else: R_value = individual_pixel[0]+individual_pixel_mutation_numbers[2]\n",
    "    \n",
    "                if(individual_pixel[1]+individual_pixel_mutation_numbers[3]>255):\n",
    "                    G_value = 255\n",
    "                elif ((individual_pixel[1]+individual_pixel_mutation_numbers[3])<0):\n",
    "                    G_value = 0\n",
    "                else: G_value = individual_pixel[1]+individual_pixel_mutation_numbers[3]\n",
    "    \n",
    "                if(individual_pixel[2]+individual_pixel_mutation_numbers[4]>255):\n",
    "                    B_value = 255\n",
    "                elif ((individual_pixel[2]+individual_pixel_mutation_numbers[4])<0):\n",
    "                    B_value = 0\n",
    "                else: B_value = individual_pixel[2]+individual_pixel_mutation_numbers[4]\n",
    "        \n",
    "            pixelmap[individual_pixel_mutation_numbers[0]-1, individual_pixel_mutation_numbers[1]-1] = (R_value, G_value, B_value)\n",
    "            mutated_individual_pixel = pixelmap[individual_pixel_mutation_numbers[0]-1, individual_pixel_mutation_numbers[1]-1]\n",
    "            print(\"Confirming mutated pixel check: \"+str(mutated_individual_pixel[0])+ \" \"+str(mutated_individual_pixel[1])+ \" \"+str(mutated_individual_pixel[2]))\n",
    "    display(image)"
   ]
  },
  {
   "cell_type": "code",
   "execution_count": null,
   "metadata": {},
   "outputs": [],
   "source": []
  }
 ],
 "metadata": {
  "kernelspec": {
   "display_name": "Python 3",
   "language": "python",
   "name": "python3"
  },
  "language_info": {
   "codemirror_mode": {
    "name": "ipython",
    "version": 3
   },
   "file_extension": ".py",
   "mimetype": "text/x-python",
   "name": "python",
   "nbconvert_exporter": "python",
   "pygments_lexer": "ipython3",
   "version": "3.8.5"
  }
 },
 "nbformat": 4,
 "nbformat_minor": 4
}
